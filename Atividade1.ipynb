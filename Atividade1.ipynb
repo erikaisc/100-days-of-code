{
  "nbformat": 4,
  "nbformat_minor": 0,
  "metadata": {
    "colab": {
      "provenance": [],
      "authorship_tag": "ABX9TyMh8jB9kqFLEaY5+BhmB6qP",
      "include_colab_link": true
    },
    "kernelspec": {
      "name": "ir",
      "display_name": "R"
    },
    "language_info": {
      "name": "R"
    }
  },
  "cells": [
    {
      "cell_type": "markdown",
      "metadata": {
        "id": "view-in-github",
        "colab_type": "text"
      },
      "source": [
        "<a href=\"https://colab.research.google.com/github/erikaisc/100-days-of-code/blob/master/Atividade1.ipynb\" target=\"_parent\"><img src=\"https://colab.research.google.com/assets/colab-badge.svg\" alt=\"Open In Colab\"/></a>"
      ]
    },
    {
      "cell_type": "code",
      "execution_count": 3,
      "metadata": {
        "colab": {
          "base_uri": "https://localhost:8080/",
          "height": 34
        },
        "id": "6yfA_2ojYLRm",
        "outputId": "f8aa47e3-3bff-481e-fc98-6816293f405a"
      },
      "outputs": [
        {
          "output_type": "display_data",
          "data": {
            "text/html": [
              "0.90500760470915"
            ],
            "text/markdown": "0.90500760470915",
            "text/latex": "0.90500760470915",
            "text/plain": [
              "[1] 0.9050076"
            ]
          },
          "metadata": {}
        }
      ],
      "source": [
        "resultado1 <- (((5^2)+sqrt(36*2))/37*exp(1)^0)\n",
        "resultado1"
      ]
    },
    {
      "cell_type": "code",
      "source": [
        "teste = seq(0, 30, 5)\n",
        "teste"
      ],
      "metadata": {
        "colab": {
          "base_uri": "https://localhost:8080/",
          "height": 34
        },
        "id": "6gWLyXxZbLZU",
        "outputId": "b1f384fc-4b73-462f-aa04-98358243fd99"
      },
      "execution_count": 6,
      "outputs": [
        {
          "output_type": "display_data",
          "data": {
            "text/html": [
              "<style>\n",
              ".list-inline {list-style: none; margin:0; padding: 0}\n",
              ".list-inline>li {display: inline-block}\n",
              ".list-inline>li:not(:last-child)::after {content: \"\\00b7\"; padding: 0 .5ex}\n",
              "</style>\n",
              "<ol class=list-inline><li>0</li><li>5</li><li>10</li><li>15</li><li>20</li><li>25</li><li>30</li></ol>\n"
            ],
            "text/markdown": "1. 0\n2. 5\n3. 10\n4. 15\n5. 20\n6. 25\n7. 30\n\n\n",
            "text/latex": "\\begin{enumerate*}\n\\item 0\n\\item 5\n\\item 10\n\\item 15\n\\item 20\n\\item 25\n\\item 30\n\\end{enumerate*}\n",
            "text/plain": [
              "[1]  0  5 10 15 20 25 30"
            ]
          },
          "metadata": {}
        }
      ]
    },
    {
      "cell_type": "code",
      "source": [
        "resultado2 <- round(abs(-exp(1)^1),2)\n",
        "resultado2"
      ],
      "metadata": {
        "colab": {
          "base_uri": "https://localhost:8080/",
          "height": 34
        },
        "id": "PTNdbzgjbd7X",
        "outputId": "a4e0036e-fa08-4ff5-e7c8-4ca597235344"
      },
      "execution_count": 9,
      "outputs": [
        {
          "output_type": "display_data",
          "data": {
            "text/html": [
              "2.72"
            ],
            "text/markdown": "2.72",
            "text/latex": "2.72",
            "text/plain": [
              "[1] 2.72"
            ]
          },
          "metadata": {}
        }
      ]
    },
    {
      "cell_type": "code",
      "source": [
        "x <- c(1,-2,0)\n",
        "y <- c(-2,5,0)\n",
        "z <- c(0,0,2)\n",
        "\n",
        "x2 <- x*2\n",
        "y2 <- y*2\n",
        "z2 <- z*2\n",
        "\n",
        "x2\n",
        "y2\n",
        "z2\n",
        "\n"
      ],
      "metadata": {
        "colab": {
          "base_uri": "https://localhost:8080/",
          "height": 69
        },
        "id": "0xYMY_dZbnQ8",
        "outputId": "77c4cfc0-bbf2-4444-e41f-7d48c3bc4e96"
      },
      "execution_count": 22,
      "outputs": [
        {
          "output_type": "display_data",
          "data": {
            "text/html": [
              "<style>\n",
              ".list-inline {list-style: none; margin:0; padding: 0}\n",
              ".list-inline>li {display: inline-block}\n",
              ".list-inline>li:not(:last-child)::after {content: \"\\00b7\"; padding: 0 .5ex}\n",
              "</style>\n",
              "<ol class=list-inline><li>2</li><li>-4</li><li>0</li></ol>\n"
            ],
            "text/markdown": "1. 2\n2. -4\n3. 0\n\n\n",
            "text/latex": "\\begin{enumerate*}\n\\item 2\n\\item -4\n\\item 0\n\\end{enumerate*}\n",
            "text/plain": [
              "[1]  2 -4  0"
            ]
          },
          "metadata": {}
        },
        {
          "output_type": "display_data",
          "data": {
            "text/html": [
              "<style>\n",
              ".list-inline {list-style: none; margin:0; padding: 0}\n",
              ".list-inline>li {display: inline-block}\n",
              ".list-inline>li:not(:last-child)::after {content: \"\\00b7\"; padding: 0 .5ex}\n",
              "</style>\n",
              "<ol class=list-inline><li>-4</li><li>10</li><li>0</li></ol>\n"
            ],
            "text/markdown": "1. -4\n2. 10\n3. 0\n\n\n",
            "text/latex": "\\begin{enumerate*}\n\\item -4\n\\item 10\n\\item 0\n\\end{enumerate*}\n",
            "text/plain": [
              "[1] -4 10  0"
            ]
          },
          "metadata": {}
        },
        {
          "output_type": "display_data",
          "data": {
            "text/html": [
              "<style>\n",
              ".list-inline {list-style: none; margin:0; padding: 0}\n",
              ".list-inline>li {display: inline-block}\n",
              ".list-inline>li:not(:last-child)::after {content: \"\\00b7\"; padding: 0 .5ex}\n",
              "</style>\n",
              "<ol class=list-inline><li>0</li><li>0</li><li>4</li></ol>\n"
            ],
            "text/markdown": "1. 0\n2. 0\n3. 4\n\n\n",
            "text/latex": "\\begin{enumerate*}\n\\item 0\n\\item 0\n\\item 4\n\\end{enumerate*}\n",
            "text/plain": [
              "[1] 0 0 4"
            ]
          },
          "metadata": {}
        }
      ]
    },
    {
      "cell_type": "code",
      "source": [
        "idades <- c(45, 15, 25, 35, 20, 27, 18, 32)\n",
        "\n",
        "menor <- min(idades)\n",
        "maior <-max(idades)\n",
        "media <-mean(idades)\n",
        "mediana <- median(idades)\n",
        "\n",
        "valoresEst <- c(menor,maior, media,mediana)\n",
        "\n",
        "valoresEst"
      ],
      "metadata": {
        "colab": {
          "base_uri": "https://localhost:8080/",
          "height": 34
        },
        "id": "S7NfltDjc8Zu",
        "outputId": "26350645-5209-4cda-fc83-15d38539be86"
      },
      "execution_count": 27,
      "outputs": [
        {
          "output_type": "display_data",
          "data": {
            "text/html": [
              "<style>\n",
              ".list-inline {list-style: none; margin:0; padding: 0}\n",
              ".list-inline>li {display: inline-block}\n",
              ".list-inline>li:not(:last-child)::after {content: \"\\00b7\"; padding: 0 .5ex}\n",
              "</style>\n",
              "<ol class=list-inline><li>15</li><li>45</li><li>27.125</li><li>26</li></ol>\n"
            ],
            "text/markdown": "1. 15\n2. 45\n3. 27.125\n4. 26\n\n\n",
            "text/latex": "\\begin{enumerate*}\n\\item 15\n\\item 45\n\\item 27.125\n\\item 26\n\\end{enumerate*}\n",
            "text/plain": [
              "[1] 15.000 45.000 27.125 26.000"
            ]
          },
          "metadata": {}
        }
      ]
    }
  ]
}